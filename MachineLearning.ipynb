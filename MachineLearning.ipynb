{
 "cells": [
  {
   "cell_type": "code",
   "execution_count": 1,
   "metadata": {
    "collapsed": true
   },
   "outputs": [],
   "source": [
    "import numpy as np \n",
    "import pandas as pd \n",
    "import json\n",
    "from pandas.io.json import json_normalize\n",
    "import os"
   ]
  },
  {
   "cell_type": "code",
   "execution_count": 2,
   "metadata": {
    "collapsed": true
   },
   "outputs": [],
   "source": [
    "def load_df(csv_path='/Users/leebarbara/Desktop/PycharmProjects/machinelearning_final/all/train.csv', nrows=None):\n",
    "    JSON_COLUMNS = ['device', 'geoNetwork', 'totals', 'trafficSource']\n",
    "    \n",
    "    df = pd.read_csv(csv_path, \n",
    "                     converters={column: json.loads for column in JSON_COLUMNS}, \n",
    "                     dtype={'fullVisitorId': 'str'}, # Important!!\n",
    "                     nrows=nrows)\n",
    "    newcolumns_list=[]\n",
    "    for column in JSON_COLUMNS:\n",
    "        column_as_df = json_normalize(df[column])\n",
    "        column_as_df.columns = [f\"{column}.{subcolumn}\" for subcolumn in column_as_df.columns]\n",
    "        newcolumns_list.append(column_as_df.columns)\n",
    "        df = df.drop(column, axis=1).merge(column_as_df, right_index=True, left_index=True)\n",
    "        \n",
    "    print(f\"Loaded {os.path.basename(csv_path)}. Shape: {df.shape}\")\n",
    "    return df,newcolumns_list"
   ]
  },
  {
   "cell_type": "code",
   "execution_count": 3,
   "metadata": {},
   "outputs": [
    {
     "name": "stdout",
     "output_type": "stream",
     "text": [
      "Loaded train.csv. Shape: (25000, 54)\n"
     ]
    }
   ],
   "source": [
    "train_small = load_df(nrows=25000)"
   ]
  },
  {
   "cell_type": "code",
   "execution_count": 4,
   "metadata": {},
   "outputs": [
    {
     "data": {
      "text/plain": [
       "0        NaN\n",
       "1        NaN\n",
       "2        NaN\n",
       "3        NaN\n",
       "4        NaN\n",
       "5        NaN\n",
       "6        NaN\n",
       "7        NaN\n",
       "8        NaN\n",
       "9        NaN\n",
       "10       NaN\n",
       "11       NaN\n",
       "12       NaN\n",
       "13       NaN\n",
       "14       NaN\n",
       "15       NaN\n",
       "16       NaN\n",
       "17       NaN\n",
       "18       NaN\n",
       "19       NaN\n",
       "20       NaN\n",
       "21       NaN\n",
       "22       NaN\n",
       "23       NaN\n",
       "24       NaN\n",
       "25       NaN\n",
       "26       NaN\n",
       "27       NaN\n",
       "28       NaN\n",
       "29       NaN\n",
       "        ... \n",
       "24970    NaN\n",
       "24971    NaN\n",
       "24972    NaN\n",
       "24973    NaN\n",
       "24974    NaN\n",
       "24975    NaN\n",
       "24976    NaN\n",
       "24977    NaN\n",
       "24978    NaN\n",
       "24979    NaN\n",
       "24980    NaN\n",
       "24981    NaN\n",
       "24982    NaN\n",
       "24983    NaN\n",
       "24984    NaN\n",
       "24985    NaN\n",
       "24986    NaN\n",
       "24987    NaN\n",
       "24988    NaN\n",
       "24989    NaN\n",
       "24990    NaN\n",
       "24991    NaN\n",
       "24992    NaN\n",
       "24993    NaN\n",
       "24994    NaN\n",
       "24995    NaN\n",
       "24996    NaN\n",
       "24997    NaN\n",
       "24998    NaN\n",
       "24999    NaN\n",
       "Name: totals.transactionRevenue, Length: 25000, dtype: object"
      ]
     },
     "execution_count": 4,
     "metadata": {},
     "output_type": "execute_result"
    }
   ],
   "source": [
    "df_small=train_small[0]\n",
    "df_small['totals.transactionRevenue']"
   ]
  },
  {
   "cell_type": "code",
   "execution_count": 5,
   "metadata": {
    "collapsed": true
   },
   "outputs": [],
   "source": [
    "# the new generated column names\n",
    "newcolumns=train_small[1]"
   ]
  },
  {
   "cell_type": "code",
   "execution_count": 6,
   "metadata": {},
   "outputs": [
    {
     "data": {
      "text/plain": [
       "{'device': array(['device.browser', 'device.browserSize', 'device.browserVersion',\n",
       "        'device.deviceCategory', 'device.flashVersion', 'device.isMobile',\n",
       "        'device.language', 'device.mobileDeviceBranding',\n",
       "        'device.mobileDeviceInfo', 'device.mobileDeviceMarketingName',\n",
       "        'device.mobileDeviceModel', 'device.mobileInputSelector',\n",
       "        'device.operatingSystem', 'device.operatingSystemVersion',\n",
       "        'device.screenColors', 'device.screenResolution'], dtype=object),\n",
       " 'geoNetwork': array(['geoNetwork.city', 'geoNetwork.cityId', 'geoNetwork.continent',\n",
       "        'geoNetwork.country', 'geoNetwork.latitude', 'geoNetwork.longitude',\n",
       "        'geoNetwork.metro', 'geoNetwork.networkDomain',\n",
       "        'geoNetwork.networkLocation', 'geoNetwork.region',\n",
       "        'geoNetwork.subContinent'], dtype=object),\n",
       " 'totals': array(['totals.bounces', 'totals.hits', 'totals.newVisits',\n",
       "        'totals.pageviews', 'totals.transactionRevenue', 'totals.visits'], dtype=object),\n",
       " 'trafficSource': array(['trafficSource.adContent',\n",
       "        'trafficSource.adwordsClickInfo.adNetworkType',\n",
       "        'trafficSource.adwordsClickInfo.criteriaParameters',\n",
       "        'trafficSource.adwordsClickInfo.gclId',\n",
       "        'trafficSource.adwordsClickInfo.isVideoAd',\n",
       "        'trafficSource.adwordsClickInfo.page',\n",
       "        'trafficSource.adwordsClickInfo.slot', 'trafficSource.campaign',\n",
       "        'trafficSource.isTrueDirect', 'trafficSource.keyword',\n",
       "        'trafficSource.medium', 'trafficSource.referralPath',\n",
       "        'trafficSource.source'], dtype=object)}"
      ]
     },
     "execution_count": 6,
     "metadata": {},
     "output_type": "execute_result"
    }
   ],
   "source": [
    "colvalue=[]\n",
    "oldname=['device', 'geoNetwork', 'totals', 'trafficSource']\n",
    "for col in newcolumns:\n",
    "    newcol=col.values\n",
    "    colvalue.append(newcol)\n",
    "# get all of the new columns from a dictionary\n",
    "d = dict(zip(oldname,colvalue))\n",
    "d"
   ]
  },
  {
   "cell_type": "code",
   "execution_count": 7,
   "metadata": {},
   "outputs": [
    {
     "data": {
      "text/html": [
       "<div>\n",
       "<style scoped>\n",
       "    .dataframe tbody tr th:only-of-type {\n",
       "        vertical-align: middle;\n",
       "    }\n",
       "\n",
       "    .dataframe tbody tr th {\n",
       "        vertical-align: top;\n",
       "    }\n",
       "\n",
       "    .dataframe thead th {\n",
       "        text-align: right;\n",
       "    }\n",
       "</style>\n",
       "<table border=\"1\" class=\"dataframe\">\n",
       "  <thead>\n",
       "    <tr style=\"text-align: right;\">\n",
       "      <th></th>\n",
       "      <th>fullVisitorId</th>\n",
       "      <th>totals.transactionRevenue</th>\n",
       "    </tr>\n",
       "  </thead>\n",
       "  <tbody>\n",
       "    <tr>\n",
       "      <th>0</th>\n",
       "      <td>0000174067426171406</td>\n",
       "      <td>0.0</td>\n",
       "    </tr>\n",
       "    <tr>\n",
       "      <th>1</th>\n",
       "      <td>0000245437374675368</td>\n",
       "      <td>0.0</td>\n",
       "    </tr>\n",
       "    <tr>\n",
       "      <th>2</th>\n",
       "      <td>0000750929315523353</td>\n",
       "      <td>0.0</td>\n",
       "    </tr>\n",
       "    <tr>\n",
       "      <th>3</th>\n",
       "      <td>0001156383977201253</td>\n",
       "      <td>0.0</td>\n",
       "    </tr>\n",
       "    <tr>\n",
       "      <th>4</th>\n",
       "      <td>0001960337656851524</td>\n",
       "      <td>0.0</td>\n",
       "    </tr>\n",
       "    <tr>\n",
       "      <th>5</th>\n",
       "      <td>0002113059720701099</td>\n",
       "      <td>0.0</td>\n",
       "    </tr>\n",
       "    <tr>\n",
       "      <th>6</th>\n",
       "      <td>0003283007147709573</td>\n",
       "      <td>0.0</td>\n",
       "    </tr>\n",
       "    <tr>\n",
       "      <th>7</th>\n",
       "      <td>0004658613138888311</td>\n",
       "      <td>0.0</td>\n",
       "    </tr>\n",
       "    <tr>\n",
       "      <th>8</th>\n",
       "      <td>0004803397127474847</td>\n",
       "      <td>0.0</td>\n",
       "    </tr>\n",
       "    <tr>\n",
       "      <th>9</th>\n",
       "      <td>0005096736076850458</td>\n",
       "      <td>0.0</td>\n",
       "    </tr>\n",
       "    <tr>\n",
       "      <th>10</th>\n",
       "      <td>0005340071405394531</td>\n",
       "      <td>0.0</td>\n",
       "    </tr>\n",
       "    <tr>\n",
       "      <th>11</th>\n",
       "      <td>0005694527603480368</td>\n",
       "      <td>0.0</td>\n",
       "    </tr>\n",
       "    <tr>\n",
       "      <th>12</th>\n",
       "      <td>0006008740756625566</td>\n",
       "      <td>0.0</td>\n",
       "    </tr>\n",
       "    <tr>\n",
       "      <th>13</th>\n",
       "      <td>0006167988871087633</td>\n",
       "      <td>0.0</td>\n",
       "    </tr>\n",
       "    <tr>\n",
       "      <th>14</th>\n",
       "      <td>000696790665307308</td>\n",
       "      <td>0.0</td>\n",
       "    </tr>\n",
       "    <tr>\n",
       "      <th>15</th>\n",
       "      <td>0007085709230086297</td>\n",
       "      <td>0.0</td>\n",
       "    </tr>\n",
       "    <tr>\n",
       "      <th>16</th>\n",
       "      <td>0007950316107280774</td>\n",
       "      <td>0.0</td>\n",
       "    </tr>\n",
       "    <tr>\n",
       "      <th>17</th>\n",
       "      <td>0008087522416297218</td>\n",
       "      <td>0.0</td>\n",
       "    </tr>\n",
       "    <tr>\n",
       "      <th>18</th>\n",
       "      <td>0008101238577441421</td>\n",
       "      <td>0.0</td>\n",
       "    </tr>\n",
       "    <tr>\n",
       "      <th>19</th>\n",
       "      <td>0008841063916474380</td>\n",
       "      <td>0.0</td>\n",
       "    </tr>\n",
       "    <tr>\n",
       "      <th>20</th>\n",
       "      <td>0009028775170427694</td>\n",
       "      <td>0.0</td>\n",
       "    </tr>\n",
       "    <tr>\n",
       "      <th>21</th>\n",
       "      <td>000958174327218501</td>\n",
       "      <td>0.0</td>\n",
       "    </tr>\n",
       "    <tr>\n",
       "      <th>22</th>\n",
       "      <td>0009864928691301984</td>\n",
       "      <td>0.0</td>\n",
       "    </tr>\n",
       "    <tr>\n",
       "      <th>23</th>\n",
       "      <td>0010139630127279334</td>\n",
       "      <td>0.0</td>\n",
       "    </tr>\n",
       "    <tr>\n",
       "      <th>24</th>\n",
       "      <td>001029705998137886</td>\n",
       "      <td>0.0</td>\n",
       "    </tr>\n",
       "    <tr>\n",
       "      <th>25</th>\n",
       "      <td>0010963369995236287</td>\n",
       "      <td>0.0</td>\n",
       "    </tr>\n",
       "    <tr>\n",
       "      <th>26</th>\n",
       "      <td>0011202659828939277</td>\n",
       "      <td>0.0</td>\n",
       "    </tr>\n",
       "    <tr>\n",
       "      <th>27</th>\n",
       "      <td>0011301545656408930</td>\n",
       "      <td>0.0</td>\n",
       "    </tr>\n",
       "    <tr>\n",
       "      <th>28</th>\n",
       "      <td>0011640236432172878</td>\n",
       "      <td>0.0</td>\n",
       "    </tr>\n",
       "    <tr>\n",
       "      <th>29</th>\n",
       "      <td>001175731479841406</td>\n",
       "      <td>0.0</td>\n",
       "    </tr>\n",
       "    <tr>\n",
       "      <th>...</th>\n",
       "      <td>...</td>\n",
       "      <td>...</td>\n",
       "    </tr>\n",
       "    <tr>\n",
       "      <th>22994</th>\n",
       "      <td>9983700887451613320</td>\n",
       "      <td>0.0</td>\n",
       "    </tr>\n",
       "    <tr>\n",
       "      <th>22995</th>\n",
       "      <td>9984488552610302262</td>\n",
       "      <td>0.0</td>\n",
       "    </tr>\n",
       "    <tr>\n",
       "      <th>22996</th>\n",
       "      <td>998591118493531427</td>\n",
       "      <td>0.0</td>\n",
       "    </tr>\n",
       "    <tr>\n",
       "      <th>22997</th>\n",
       "      <td>9986040353715257411</td>\n",
       "      <td>0.0</td>\n",
       "    </tr>\n",
       "    <tr>\n",
       "      <th>22998</th>\n",
       "      <td>9986078360730617079</td>\n",
       "      <td>0.0</td>\n",
       "    </tr>\n",
       "    <tr>\n",
       "      <th>22999</th>\n",
       "      <td>9986859331291240747</td>\n",
       "      <td>0.0</td>\n",
       "    </tr>\n",
       "    <tr>\n",
       "      <th>23000</th>\n",
       "      <td>9987056085213279488</td>\n",
       "      <td>0.0</td>\n",
       "    </tr>\n",
       "    <tr>\n",
       "      <th>23001</th>\n",
       "      <td>9987626919759715461</td>\n",
       "      <td>0.0</td>\n",
       "    </tr>\n",
       "    <tr>\n",
       "      <th>23002</th>\n",
       "      <td>9987788078117127886</td>\n",
       "      <td>0.0</td>\n",
       "    </tr>\n",
       "    <tr>\n",
       "      <th>23003</th>\n",
       "      <td>9988114167332507224</td>\n",
       "      <td>0.0</td>\n",
       "    </tr>\n",
       "    <tr>\n",
       "      <th>23004</th>\n",
       "      <td>9988851642285467329</td>\n",
       "      <td>0.0</td>\n",
       "    </tr>\n",
       "    <tr>\n",
       "      <th>23005</th>\n",
       "      <td>9989217728829257861</td>\n",
       "      <td>0.0</td>\n",
       "    </tr>\n",
       "    <tr>\n",
       "      <th>23006</th>\n",
       "      <td>998922544361404136</td>\n",
       "      <td>0.0</td>\n",
       "    </tr>\n",
       "    <tr>\n",
       "      <th>23007</th>\n",
       "      <td>9989571451511394866</td>\n",
       "      <td>0.0</td>\n",
       "    </tr>\n",
       "    <tr>\n",
       "      <th>23008</th>\n",
       "      <td>9989981845873742564</td>\n",
       "      <td>0.0</td>\n",
       "    </tr>\n",
       "    <tr>\n",
       "      <th>23009</th>\n",
       "      <td>9990658882481445629</td>\n",
       "      <td>0.0</td>\n",
       "    </tr>\n",
       "    <tr>\n",
       "      <th>23010</th>\n",
       "      <td>9990734090295327724</td>\n",
       "      <td>0.0</td>\n",
       "    </tr>\n",
       "    <tr>\n",
       "      <th>23011</th>\n",
       "      <td>9991428295202127010</td>\n",
       "      <td>0.0</td>\n",
       "    </tr>\n",
       "    <tr>\n",
       "      <th>23012</th>\n",
       "      <td>999151229155004780</td>\n",
       "      <td>0.0</td>\n",
       "    </tr>\n",
       "    <tr>\n",
       "      <th>23013</th>\n",
       "      <td>9991882289486375263</td>\n",
       "      <td>0.0</td>\n",
       "    </tr>\n",
       "    <tr>\n",
       "      <th>23014</th>\n",
       "      <td>9993204973689965101</td>\n",
       "      <td>0.0</td>\n",
       "    </tr>\n",
       "    <tr>\n",
       "      <th>23015</th>\n",
       "      <td>9993288948446258476</td>\n",
       "      <td>0.0</td>\n",
       "    </tr>\n",
       "    <tr>\n",
       "      <th>23016</th>\n",
       "      <td>9993372776950522771</td>\n",
       "      <td>0.0</td>\n",
       "    </tr>\n",
       "    <tr>\n",
       "      <th>23017</th>\n",
       "      <td>9993631244016409511</td>\n",
       "      <td>0.0</td>\n",
       "    </tr>\n",
       "    <tr>\n",
       "      <th>23018</th>\n",
       "      <td>999437864543927262</td>\n",
       "      <td>0.0</td>\n",
       "    </tr>\n",
       "    <tr>\n",
       "      <th>23019</th>\n",
       "      <td>9995339457642254899</td>\n",
       "      <td>0.0</td>\n",
       "    </tr>\n",
       "    <tr>\n",
       "      <th>23020</th>\n",
       "      <td>9997516671319752521</td>\n",
       "      <td>0.0</td>\n",
       "    </tr>\n",
       "    <tr>\n",
       "      <th>23021</th>\n",
       "      <td>99980903580581121</td>\n",
       "      <td>0.0</td>\n",
       "    </tr>\n",
       "    <tr>\n",
       "      <th>23022</th>\n",
       "      <td>999889763383834152</td>\n",
       "      <td>0.0</td>\n",
       "    </tr>\n",
       "    <tr>\n",
       "      <th>23023</th>\n",
       "      <td>9999028091918322321</td>\n",
       "      <td>0.0</td>\n",
       "    </tr>\n",
       "  </tbody>\n",
       "</table>\n",
       "<p>23024 rows × 2 columns</p>\n",
       "</div>"
      ],
      "text/plain": [
       "             fullVisitorId  totals.transactionRevenue\n",
       "0      0000174067426171406                        0.0\n",
       "1      0000245437374675368                        0.0\n",
       "2      0000750929315523353                        0.0\n",
       "3      0001156383977201253                        0.0\n",
       "4      0001960337656851524                        0.0\n",
       "5      0002113059720701099                        0.0\n",
       "6      0003283007147709573                        0.0\n",
       "7      0004658613138888311                        0.0\n",
       "8      0004803397127474847                        0.0\n",
       "9      0005096736076850458                        0.0\n",
       "10     0005340071405394531                        0.0\n",
       "11     0005694527603480368                        0.0\n",
       "12     0006008740756625566                        0.0\n",
       "13     0006167988871087633                        0.0\n",
       "14      000696790665307308                        0.0\n",
       "15     0007085709230086297                        0.0\n",
       "16     0007950316107280774                        0.0\n",
       "17     0008087522416297218                        0.0\n",
       "18     0008101238577441421                        0.0\n",
       "19     0008841063916474380                        0.0\n",
       "20     0009028775170427694                        0.0\n",
       "21      000958174327218501                        0.0\n",
       "22     0009864928691301984                        0.0\n",
       "23     0010139630127279334                        0.0\n",
       "24      001029705998137886                        0.0\n",
       "25     0010963369995236287                        0.0\n",
       "26     0011202659828939277                        0.0\n",
       "27     0011301545656408930                        0.0\n",
       "28     0011640236432172878                        0.0\n",
       "29      001175731479841406                        0.0\n",
       "...                    ...                        ...\n",
       "22994  9983700887451613320                        0.0\n",
       "22995  9984488552610302262                        0.0\n",
       "22996   998591118493531427                        0.0\n",
       "22997  9986040353715257411                        0.0\n",
       "22998  9986078360730617079                        0.0\n",
       "22999  9986859331291240747                        0.0\n",
       "23000  9987056085213279488                        0.0\n",
       "23001  9987626919759715461                        0.0\n",
       "23002  9987788078117127886                        0.0\n",
       "23003  9988114167332507224                        0.0\n",
       "23004  9988851642285467329                        0.0\n",
       "23005  9989217728829257861                        0.0\n",
       "23006   998922544361404136                        0.0\n",
       "23007  9989571451511394866                        0.0\n",
       "23008  9989981845873742564                        0.0\n",
       "23009  9990658882481445629                        0.0\n",
       "23010  9990734090295327724                        0.0\n",
       "23011  9991428295202127010                        0.0\n",
       "23012   999151229155004780                        0.0\n",
       "23013  9991882289486375263                        0.0\n",
       "23014  9993204973689965101                        0.0\n",
       "23015  9993288948446258476                        0.0\n",
       "23016  9993372776950522771                        0.0\n",
       "23017  9993631244016409511                        0.0\n",
       "23018   999437864543927262                        0.0\n",
       "23019  9995339457642254899                        0.0\n",
       "23020  9997516671319752521                        0.0\n",
       "23021    99980903580581121                        0.0\n",
       "23022   999889763383834152                        0.0\n",
       "23023  9999028091918322321                        0.0\n",
       "\n",
       "[23024 rows x 2 columns]"
      ]
     },
     "execution_count": 7,
     "metadata": {},
     "output_type": "execute_result"
    }
   ],
   "source": [
    "df_small[\"totals.transactionRevenue\"] = df_small[\"totals.transactionRevenue\"].astype('float')\n",
    "gdf =df_small.groupby(\"fullVisitorId\")[\"totals.transactionRevenue\"].sum().reset_index()\n",
    "gdf"
   ]
  },
  {
   "cell_type": "code",
   "execution_count": 8,
   "metadata": {
    "collapsed": true
   },
   "outputs": [],
   "source": [
    "import matplotlib.pyplot as plt"
   ]
  },
  {
   "cell_type": "code",
   "execution_count": 9,
   "metadata": {},
   "outputs": [
    {
     "data": {
      "image/png": "[encoded data removed]",
      "text/plain": [
       "<matplotlib.figure.Figure at 0x11cc0e748>"
      ]
     },
     "metadata": {},
     "output_type": "display_data"
    }
   ],
   "source": [
    "plt.figure(figsize=(8,6))\n",
    "plt.scatter(range(gdf.shape[0]), np.sort(np.log1p(gdf[\"totals.transactionRevenue\"].values)))\n",
    "plt.xlabel('index', fontsize=12)\n",
    "plt.ylabel('TransactionRevenue', fontsize=12)\n",
    "plt.show()"
   ]
  },
  {
   "cell_type": "code",
   "execution_count": 10,
   "metadata": {},
   "outputs": [
    {
     "name": "stdout",
     "output_type": "stream",
     "text": [
      "Number of instances in train set with non-zero revenue :  301  and ratio is :  0.01204\n",
      "Number of unique customers with non-zero revenue :  294 and the ratio is :  0.0127692842252\n"
     ]
    }
   ],
   "source": [
    "nzi = pd.notnull(df_small[\"totals.transactionRevenue\"]).sum()\n",
    "nzr = (gdf[\"totals.transactionRevenue\"]>0).sum()\n",
    "print(\"Number of instances in train set with non-zero revenue : \", nzi, \" and ratio is : \", nzi / df_small.shape[0])\n",
    "print(\"Number of unique customers with non-zero revenue : \", nzr, \"and the ratio is : \", nzr / gdf.shape[0])"
   ]
  },
  {
   "cell_type": "code",
   "execution_count": 11,
   "metadata": {},
   "outputs": [
    {
     "name": "stdout",
     "output_type": "stream",
     "text": [
      "Number of unique visitors in train set :  23024  out of rows :  25000\n"
     ]
    }
   ],
   "source": [
    "print(\"Number of unique visitors in train set : \",df_small.fullVisitorId.nunique(), \" out of rows : \",df_small.shape[0])"
   ]
  },
  {
   "cell_type": "code",
   "execution_count": 12,
   "metadata": {
    "collapsed": true
   },
   "outputs": [],
   "source": [
    "def horizontal_bar_chart(cnt_srs, color):\n",
    "    trace = go.Bar(\n",
    "        y=cnt_srs.index[::-1],\n",
    "        x=cnt_srs.values[::-1],\n",
    "        showlegend=False,\n",
    "        orientation = 'h',\n",
    "        marker=dict(\n",
    "            color=color,\n",
    "        ),\n",
    "    )\n",
    "    return trace"
   ]
  },
  {
   "cell_type": "code",
   "execution_count": 14,
   "metadata": {},
   "outputs": [
    {
     "name": "stdout",
     "output_type": "stream",
     "text": [
      "This is the format of your plot grid:\n",
      "[ (1,1) x1,y1 ]  [ (1,2) x2,y2 ]  [ (1,3) x3,y3 ]\n",
      "[ (2,1) x4,y4 ]  [ (2,2) x5,y5 ]  [ (2,3) x6,y6 ]\n",
      "\n",
      "High five! You successfully sent some data to your account on plotly. View your plot in your browser at https://plot.ly/~lanli/0 or inside your plot.ly account where it is named 'traffic-source-plots'\n"
     ]
    },
    {
     "data": {
      "text/html": [
       "<iframe id=\"igraph\" scrolling=\"no\" style=\"border:none;\" seamless=\"seamless\" src=\"https://plot.ly/~lanli/0.embed\" height=\"1000px\" width=\"1200px\"></iframe>"
      ],
      "text/plain": [
       "<plotly.tools.PlotlyDisplay object>"
      ]
     },
     "execution_count": 14,
     "metadata": {},
     "output_type": "execute_result"
    }
   ],
   "source": [
    "# source\n",
    "import plotly\n",
    "from plotly import tools\n",
    "import plotly.plotly as py\n",
    "import plotly.graph_objs as go\n",
    "plotly.tools.set_credentials_file(username='lanli', api_key='fO5pXtYRLU7HDYAruoYb')\n",
    "\n",
    "cnt_srs = df_small.groupby('trafficSource.source')['totals.transactionRevenue'].agg(['size', 'count', 'mean'])\n",
    "cnt_srs.columns = [\"count\", \"count of non-zero revenue\", \"mean\"]\n",
    "cnt_srs = cnt_srs.sort_values(by=\"count\", ascending=False)\n",
    "trace1 = horizontal_bar_chart(cnt_srs[\"count\"].head(10), 'green')\n",
    "trace2 = horizontal_bar_chart(cnt_srs[\"count of non-zero revenue\"].head(10), 'green')\n",
    "trace3 = horizontal_bar_chart(cnt_srs[\"mean\"].head(10), 'green')\n",
    "\n",
    "# medium\n",
    "cnt_srs = df_small.groupby('trafficSource.medium')['totals.transactionRevenue'].agg(['size', 'count', 'mean'])\n",
    "cnt_srs.columns = [\"count\", \"count of non-zero revenue\", \"mean\"]\n",
    "cnt_srs = cnt_srs.sort_values(by=\"count\", ascending=False)\n",
    "trace4 = horizontal_bar_chart(cnt_srs[\"count\"], 'pink')\n",
    "trace5 = horizontal_bar_chart(cnt_srs[\"count of non-zero revenue\"], 'pink')\n",
    "trace6 = horizontal_bar_chart(cnt_srs[\"mean\"], 'pink')\n",
    "\n",
    "# Creating two subplots\n",
    "fig = tools.make_subplots(rows=2, cols=3, vertical_spacing=0.08, horizontal_spacing=0.15, \n",
    "                          subplot_titles=[\"Traffic Source - Count\", \"Traffic Source - Non-zero Revenue Count\", \"Traffic Source - Mean Revenue\",\n",
    "                                          \"Traffic Source Medium - Count\",  \"Traffic Source Medium - Non-zero Revenue Count\", \"Traffic Source Medium - Mean Revenue\"\n",
    "                                          ])\n",
    "\n",
    "fig.append_trace(trace1, 1, 1)\n",
    "fig.append_trace(trace2, 1, 2)\n",
    "fig.append_trace(trace3, 1, 3)\n",
    "fig.append_trace(trace4, 2, 1)\n",
    "fig.append_trace(trace5, 2, 2)\n",
    "fig.append_trace(trace6, 2, 3)\n",
    "\n",
    "fig['layout'].update(height=1000, width=1200, paper_bgcolor='rgb(233,233,233)', title=\"Traffic Source Plots\")\n",
    "py.iplot(fig, filename='traffic-source-plots')\n"
   ]
  },
  {
   "cell_type": "code",
   "execution_count": 15,
   "metadata": {},
   "outputs": [
    {
     "name": "stdout",
     "output_type": "stream",
     "text": [
      "['totals.bounces' 'totals.hits' 'totals.newVisits' 'totals.pageviews'\n",
      " 'totals.transactionRevenue' 'totals.visits']\n",
      "This is the format of your plot grid:\n",
      "[ (1,1) x1,y1 ]\n",
      "[ (2,1) x2,y2 ]\n",
      "\n"
     ]
    },
    {
     "data": {
      "text/html": [
       "<iframe id=\"igraph\" scrolling=\"no\" style=\"border:none;\" seamless=\"seamless\" src=\"https://plot.ly/~lanli/4.embed\" height=\"800px\" width=\"800px\"></iframe>"
      ],
      "text/plain": [
       "<plotly.tools.PlotlyDisplay object>"
      ]
     },
     "execution_count": 15,
     "metadata": {},
     "output_type": "execute_result"
    }
   ],
   "source": [
    "# totals\n",
    "ttlist=d['totals']\n",
    "print(ttlist)\n",
    "tt_list=['totals.newVisits','totals.visits']\n",
    "# plot compare newVisits and visits\n",
    "import datetime\n",
    "\n",
    "def scatter_plot(cnt_srs, color):\n",
    "    trace = go.Scatter(\n",
    "        x=cnt_srs.index[::-1],\n",
    "        y=cnt_srs.values[::-1],\n",
    "        showlegend=False,\n",
    "        marker=dict(\n",
    "            color=color,\n",
    "        ),\n",
    "    )\n",
    "    return trace\n",
    "\n",
    "df_small['date'] = df_small['date'].apply(lambda x: datetime.date(int(str(x)[:4]), int(str(x)[4:6]), int(str(x)[6:])))\n",
    "# newVisits\n",
    "cnt_srs = df_small.groupby('date')['totals.newVisits'].agg(['size', 'count'])\n",
    "cnt_srs.columns = [\"count\", \"count of non-zero revenue\"]\n",
    "cnt_srs = cnt_srs.sort_index()\n",
    "\n",
    "#cnt_srs.index = cnt_srs.index.astype('str')\n",
    "trace1 = scatter_plot(cnt_srs[\"count\"], 'red')\n",
    "trace2 = scatter_plot(cnt_srs[\"count of non-zero revenue\"], 'blue')\n",
    "\n",
    "fig = tools.make_subplots(rows=2, cols=1, vertical_spacing=0.08,\n",
    "                          subplot_titles=[\"newVisits - Count\", \"newVisits - Non-zero Revenue count\"])\n",
    "fig.append_trace(trace1, 1, 1)\n",
    "fig.append_trace(trace2, 2, 1)\n",
    "fig['layout'].update(height=800, width=800, paper_bgcolor='rgb(233,233,233)', title=\"Visits Plots\")\n",
    "py.iplot(fig, filename='date-plots')          "
   ]
  },
  {
   "cell_type": "code",
   "execution_count": 16,
   "metadata": {},
   "outputs": [
    {
     "name": "stdout",
     "output_type": "stream",
     "text": [
      "This is the format of your plot grid:\n",
      "[ (1,1) x1,y1 ]\n",
      "[ (2,1) x2,y2 ]\n",
      "\n"
     ]
    },
    {
     "data": {
      "text/html": [
       "<iframe id=\"igraph\" scrolling=\"no\" style=\"border:none;\" seamless=\"seamless\" src=\"https://plot.ly/~lanli/6.embed\" height=\"800px\" width=\"800px\"></iframe>"
      ],
      "text/plain": [
       "<plotly.tools.PlotlyDisplay object>"
      ]
     },
     "execution_count": 16,
     "metadata": {},
     "output_type": "execute_result"
    }
   ],
   "source": [
    "# visits in totals\n",
    "cnt_srs = df_small.groupby('date')['totals.visits'].agg(['size', 'count'])\n",
    "cnt_srs.columns = [\"count\", \"count of non-zero revenue\"]\n",
    "cnt_srs = cnt_srs.sort_index()\n",
    "\n",
    "#cnt_srs.index = cnt_srs.index.astype('str')\n",
    "trace1 = scatter_plot(cnt_srs[\"count\"], 'yellow')\n",
    "trace2 = scatter_plot(cnt_srs[\"count of non-zero revenue\"], 'orange')\n",
    "\n",
    "fig = tools.make_subplots(rows=2, cols=1, vertical_spacing=0.08,\n",
    "                          subplot_titles=[\"visits - Count\", \"visits - Non-zero Revenue count\"])\n",
    "fig.append_trace(trace1, 1, 1)\n",
    "fig.append_trace(trace2, 2, 1)\n",
    "fig['layout'].update(height=800, width=800, paper_bgcolor='rgb(233,233,233)', title=\"visits_ Plots\")\n",
    "py.iplot(fig, filename='visits-date-plots')"
   ]
  },
  {
   "cell_type": "code",
   "execution_count": 17,
   "metadata": {},
   "outputs": [
    {
     "name": "stdout",
     "output_type": "stream",
     "text": [
      "This is the format of your plot grid:\n",
      "[ (1,1) x1,y1 ]  [ (1,2) x2,y2 ]  [ (1,3) x3,y3 ]\n",
      "[ (2,1) x4,y4 ]  [ (2,2) x5,y5 ]  [ (2,3) x6,y6 ]\n",
      "[ (3,1) x7,y7 ]  [ (3,2) x8,y8 ]  [ (3,3) x9,y9 ]\n",
      "\n"
     ]
    },
    {
     "data": {
      "text/html": [
       "<iframe id=\"igraph\" scrolling=\"no\" style=\"border:none;\" seamless=\"seamless\" src=\"https://plot.ly/~lanli/8.embed\" height=\"1200px\" width=\"900px\"></iframe>"
      ],
      "text/plain": [
       "<plotly.tools.PlotlyDisplay object>"
      ]
     },
     "execution_count": 17,
     "metadata": {},
     "output_type": "execute_result"
    }
   ],
   "source": [
    "# Page views\n",
    "cnt_srs = df_small.groupby('totals.pageviews')['totals.transactionRevenue'].agg(['size', 'count', 'mean'])\n",
    "cnt_srs.columns = [\"count\", \"count of non-zero revenue\", \"mean\"]\n",
    "cnt_srs = cnt_srs.sort_values(by=\"count\", ascending=False)\n",
    "trace1 = horizontal_bar_chart(cnt_srs[\"count\"].head(60), 'cyan')\n",
    "trace2 = horizontal_bar_chart(cnt_srs[\"count of non-zero revenue\"].head(60), 'cyan')\n",
    "trace5 = horizontal_bar_chart(cnt_srs[\"mean\"].head(60), 'cyan')\n",
    "\n",
    "# Hits\n",
    "cnt_srs = df_small.groupby('totals.hits')['totals.transactionRevenue'].agg(['size', 'count', 'mean'])\n",
    "cnt_srs.columns = [\"count\", \"count of non-zero revenue\", 'mean']\n",
    "cnt_srs = cnt_srs.sort_values(by=\"count\", ascending=False)\n",
    "trace3 = horizontal_bar_chart(cnt_srs[\"count\"].head(60), 'black')\n",
    "trace4 = horizontal_bar_chart(cnt_srs[\"count of non-zero revenue\"].head(60), 'black')\n",
    "trace6 = horizontal_bar_chart(cnt_srs[\"mean\"].head(60), 'black')\n",
    "\n",
    "# bounces\n",
    "cnt_srs = df_small.groupby('totals.bounces')['totals.transactionRevenue'].agg(['size', 'count', 'mean'])\n",
    "cnt_srs.columns = [\"count\", \"count of non-zero revenue\", 'mean']\n",
    "cnt_srs = cnt_srs.sort_values(by=\"count\", ascending=False)\n",
    "trace7 = horizontal_bar_chart(cnt_srs[\"count\"].head(60), 'yellow')\n",
    "trace8 = horizontal_bar_chart(cnt_srs[\"count of non-zero revenue\"].head(60), 'yellow')\n",
    "trace9 = horizontal_bar_chart(cnt_srs[\"mean\"].head(60), 'yellow')\n",
    "\n",
    "# Creating two subplots\n",
    "fig = tools.make_subplots(rows=3, cols=3, vertical_spacing=0.08, horizontal_spacing=0.15, \n",
    "                          subplot_titles=[\"Total Pageviews - Count\", \"Total Pageviews - Non-zero Revenue Count\", \"Total Pageviews - Mean Revenue\",\n",
    "                                           \"Total Hits - Count\",  \"Total Hits - Non-zero Revenue Count\", \"Total Hits - Mean Revenue\",\n",
    "                                         \"Total Bounces - Count\",  \"Total Bounces - Non-zero Revenue Count\", \"Total Bounces - Mean Revenue\"])\n",
    "\n",
    "fig.append_trace(trace1, 1, 1)\n",
    "fig.append_trace(trace2, 1, 2)\n",
    "fig.append_trace(trace5, 1, 3)\n",
    "fig.append_trace(trace3, 2, 1)\n",
    "fig.append_trace(trace4, 2, 2)\n",
    "fig.append_trace(trace6, 2, 3)\n",
    "fig.append_trace(trace7, 3, 1)\n",
    "fig.append_trace(trace8, 3, 2)\n",
    "fig.append_trace(trace9, 3, 3)\n",
    "\n",
    "fig['layout'].update(height=1200, width=900, paper_bgcolor='rgb(233,233,233)', title=\"Total Visitor Profile Plots\")\n",
    "py.iplot(fig, filename='visitor-profile-plots')"
   ]
  },
  {
   "cell_type": "code",
   "execution_count": 20,
   "metadata": {},
   "outputs": [
    {
     "name": "stdout",
     "output_type": "stream",
     "text": [
      "This is the format of your plot grid:\n",
      "[ (1,1) x1,y1 ]\n",
      "[ (2,1) x2,y2 ]\n",
      "\n"
     ]
    },
    {
     "data": {
      "text/html": [
       "<iframe id=\"igraph\" scrolling=\"no\" style=\"border:none;\" seamless=\"seamless\" src=\"https://plot.ly/~lanli/10.embed\" height=\"800px\" width=\"800px\"></iframe>"
      ],
      "text/plain": [
       "<plotly.tools.PlotlyDisplay object>"
      ]
     },
     "execution_count": 20,
     "metadata": {},
     "output_type": "execute_result"
    }
   ],
   "source": [
    "# bounces in totals\n",
    "cnt_srs = df_small.groupby('date')['totals.transactionRevenue'].agg(['size', 'count'])\n",
    "cnt_srs.columns = [\"count\", \"count of non-zero revenue\"]\n",
    "cnt_srs = cnt_srs.sort_index()\n",
    "\n",
    "#cnt_srs.index = cnt_srs.index.astype('str')\n",
    "trace1 = scatter_plot(cnt_srs[\"count\"], 'black')\n",
    "trace2 = scatter_plot(cnt_srs[\"count of non-zero revenue\"], 'pink')\n",
    "\n",
    "fig = tools.make_subplots(rows=2, cols=1, vertical_spacing=0.08,\n",
    "                          subplot_titles=[\"bounces - Count\", \"bounces - Non-zero Revenue count\"])\n",
    "fig.append_trace(trace1, 1, 1)\n",
    "fig.append_trace(trace2, 2, 1)\n",
    "fig['layout'].update(height=800, width=800, paper_bgcolor='rgb(233,233,233)', title=\"bounces_ Plots\")\n",
    "py.iplot(fig, filename='bounces-date-plots')"
   ]
  },
  {
   "cell_type": "code",
   "execution_count": null,
   "metadata": {
    "collapsed": true
   },
   "outputs": [],
   "source": []
  }
 ],
 "metadata": {
  "kernelspec": {
   "display_name": "Python 3",
   "language": "python",
   "name": "python3"
  },
  "language_info": {
   "codemirror_mode": {
    "name": "ipython",
    "version": 3
   },
   "file_extension": ".py",
   "mimetype": "text/x-python",
   "name": "python",
   "nbconvert_exporter": "python",
   "pygments_lexer": "ipython3",
   "version": "3.6.1"
  }
 },
 "nbformat": 4,
 "nbformat_minor": 2
}
